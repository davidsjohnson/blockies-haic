{
 "cells": [
  {
   "cell_type": "code",
   "execution_count": null,
   "metadata": {
    "jupyter": {
     "outputs_hidden": false,
     "source_hidden": false
    },
    "nteract": {
     "transient": {
      "deleting": false
     }
    }
   },
   "outputs": [],
   "source": [
    "import os\n",
    "import dataclasses\n",
    "import two4two\n",
    "import matplotlib.pyplot as plt\n",
    "import numpy as np\n",
    "import pandas as pd\n",
    "import scipy.stats\n",
    "from two4two.plotvis import render_single_param"
   ]
  },
  {
   "cell_type": "markdown",
   "metadata": {
    "nteract": {
     "transient": {
      "deleting": false
     }
    }
   },
   "source": [
    "# SceneParameters: Description of a single image\n",
    "The basic data type of the two4two module is *SceneParameters*. A SceneParameters object contains the attributes that describe a single 3D scene that can controlled and manipulated. We can create SceneParameters manually with the constructor which will be initialize with default values (see example below). In a later section we will demonstrate how to use samplers to sample these parameters in larger numbers."
   ]
  },
  {
   "cell_type": "code",
   "execution_count": null,
   "metadata": {
    "jupyter": {
     "outputs_hidden": false,
     "source_hidden": false
    },
    "nteract": {
     "transient": {
      "deleting": false
     }
    }
   },
   "outputs": [],
   "source": [
    "base_param = two4two.SceneParameters()\n",
    "base_param\n"
   ]
  },
  {
   "cell_type": "markdown",
   "metadata": {
    "nteract": {
     "transient": {
      "deleting": false
     }
    }
   },
   "source": [
    "# Rendering SceneParameters\n",
    "Now that we have a SceneParameter we want to create an image from these attributes. We simply need to pass it to the blender Module. The ``blender.render`` function is designed to receive a *list of SceneParameters* and return an enumerator to receive \n",
    "1. the rendered image\n",
    "2. a segmentation mask\n",
    "3. the parameters used to create the image (so that they can be saved to be used for later analysis).\n",
    "All of these objects are returned by the enumerator once Blender finished rendering them.\n",
    "Before we render our first image, please note that we have implemented doc strings that provide even more detail. "
   ]
  },
  {
   "cell_type": "code",
   "execution_count": null,
   "metadata": {},
   "outputs": [],
   "source": [
    "two4two.blender.render?"
   ]
  },
  {
   "cell_type": "markdown",
   "metadata": {},
   "source": [
    "Here we will use the convenience function ``bender.render_single``, which returns a single image and segmentation mask for a single SceneParameter. We created this convenience function to inspect single images quickly. Please **DO NOT USE IT TO RENDER A SEQUENCE OF PARAMETERS** . Instead, use``blender.render`` which is more efficient. \n",
    "Please note: The download_blender flag will ensure Blender is installed."
   ]
  },
  {
   "cell_type": "code",
   "execution_count": null,
   "metadata": {},
   "outputs": [],
   "source": [
    "(img, mask) = two4two.blender.render_single(base_param, download_blender=True)"
   ]
  },
  {
   "cell_type": "markdown",
   "metadata": {},
   "source": [
    "Ploting the image yields a peaky object:"
   ]
  },
  {
   "cell_type": "code",
   "execution_count": null,
   "metadata": {},
   "outputs": [],
   "source": [
    "plt.imshow(img)\n",
    "plt.axis('off')"
   ]
  },
  {
   "cell_type": "markdown",
   "metadata": {
    "nteract": {
     "transient": {
      "deleting": false
     }
    }
   },
   "source": [
    "The renderer also returns an image mask which we visualize here:"
   ]
  },
  {
   "cell_type": "code",
   "execution_count": null,
   "metadata": {
    "jupyter": {
     "outputs_hidden": false,
     "source_hidden": false
    },
    "nteract": {
     "transient": {
      "deleting": false
     }
    }
   },
   "outputs": [],
   "source": [
    "plt.imshow(mask)"
   ]
  },
  {
   "cell_type": "markdown",
   "metadata": {
    "nteract": {
     "transient": {
      "deleting": false
     }
    }
   },
   "source": [
    "In this example, we will render quite a few single images, so we will use another convenience function."
   ]
  },
  {
   "cell_type": "code",
   "execution_count": null,
   "metadata": {},
   "outputs": [],
   "source": [
    "from two4two.plotvis import render_single_param\n",
    "render_single_param(base_param);"
   ]
  },
  {
   "cell_type": "markdown",
   "metadata": {
    "nteract": {
     "transient": {
      "deleting": false
     }
    }
   },
   "source": [
    "The default SceneParameters always depict a peaky.\n",
    "One can obtain the same set of default values with another convenience function:"
   ]
  },
  {
   "cell_type": "code",
   "execution_count": null,
   "metadata": {
    "jupyter": {
     "outputs_hidden": false,
     "source_hidden": false
    },
    "nteract": {
     "transient": {
      "deleting": false
     }
    }
   },
   "outputs": [],
   "source": [
    "base_peaky = two4two.SceneParameters.default_peaky()\n",
    "render_single_param(base_peaky);"
   ]
  },
  {
   "cell_type": "markdown",
   "metadata": {
    "nteract": {
     "transient": {
      "deleting": false
     }
    }
   },
   "source": [
    "Similarly a convenience function exist to retrieve a stretchy:"
   ]
  },
  {
   "cell_type": "code",
   "execution_count": null,
   "metadata": {
    "jupyter": {
     "outputs_hidden": false,
     "source_hidden": false
    },
    "nteract": {
     "transient": {
      "deleting": false
     }
    }
   },
   "outputs": [],
   "source": [
    "base_stretchy = two4two.SceneParameters.default_stretchy()\n",
    "render_single_param(base_stretchy);"
   ]
  },
  {
   "cell_type": "markdown",
   "metadata": {
    "nteract": {
     "transient": {
      "deleting": false
     }
    }
   },
   "source": [
    "# Changing Attributes\n",
    "The attributes of the SceneParameters can be changed manually.\n",
    "For example, the attribute **fliplr** indicates if the object is flipped vertically (left/right)"
   ]
  },
  {
   "cell_type": "code",
   "execution_count": null,
   "metadata": {
    "jupyter": {
     "outputs_hidden": false,
     "source_hidden": false
    },
    "nteract": {
     "transient": {
      "deleting": false
     }
    }
   },
   "outputs": [],
   "source": [
    "fliped_peaky = two4two.SceneParameters()\n",
    "fliped_peaky.fliplr"
   ]
  },
  {
   "cell_type": "markdown",
   "metadata": {
    "nteract": {
     "transient": {
      "deleting": false
     }
    }
   },
   "source": [
    "Since the parameters indicate the object is not flipped, we can change that by setting the attribute manually:"
   ]
  },
  {
   "cell_type": "code",
   "execution_count": null,
   "metadata": {
    "jupyter": {
     "outputs_hidden": false,
     "source_hidden": false
    },
    "nteract": {
     "transient": {
      "deleting": false
     }
    }
   },
   "outputs": [],
   "source": [
    "fliped_peaky.fliplr = True\n",
    "render_single_param(fliped_peaky);"
   ]
  },
  {
   "cell_type": "markdown",
   "metadata": {
    "nteract": {
     "transient": {
      "deleting": false
     }
    }
   },
   "source": [
    "Next, let us look at the attribute of **roation**.\n",
    "Here we are setting it to its minimum recommended value."
   ]
  },
  {
   "cell_type": "code",
   "execution_count": null,
   "metadata": {
    "jupyter": {
     "outputs_hidden": false,
     "source_hidden": false
    },
    "nteract": {
     "transient": {
      "deleting": false
     }
    }
   },
   "outputs": [],
   "source": [
    "rotating_pitch_peaky = two4two.SceneParameters()\n",
    "rotating_pitch_peaky.obj_rotation_pitch = two4two.SceneParameters.VALID_VALUES['obj_rotation_pitch'][0]\n",
    "render_single_param(rotating_pitch_peaky);"
   ]
  },
  {
   "cell_type": "markdown",
   "metadata": {
    "nteract": {
     "transient": {
      "deleting": false
     }
    }
   },
   "source": [
    "After that, we are setting it to its recommended maximum value:"
   ]
  },
  {
   "cell_type": "code",
   "execution_count": null,
   "metadata": {
    "jupyter": {
     "outputs_hidden": false,
     "source_hidden": false
    },
    "nteract": {
     "transient": {
      "deleting": false
     }
    }
   },
   "outputs": [],
   "source": [
    "rotating_pitch_peaky.obj_rotation_pitch = two4two.SceneParameters.VALID_VALUES['obj_rotation_pitch'][1]\n",
    "render_single_param(rotating_pitch_peaky);"
   ]
  },
  {
   "cell_type": "markdown",
   "metadata": {
    "nteract": {
     "transient": {
      "deleting": false
     }
    }
   },
   "source": [
    "It is possible to set attributes outside of the recommended values:"
   ]
  },
  {
   "cell_type": "code",
   "execution_count": null,
   "metadata": {
    "jupyter": {
     "outputs_hidden": false,
     "source_hidden": false
    },
    "nteract": {
     "transient": {
      "deleting": false
     }
    }
   },
   "outputs": [],
   "source": [
    "rotating_pitch_peaky.obj_rotation_pitch = 1.2\n",
    "render_single_param(rotating_pitch_peaky);"
   ]
  },
  {
   "cell_type": "markdown",
   "metadata": {
    "nteract": {
     "transient": {
      "deleting": false
     }
    }
   },
   "source": [
    "To check whether values are with recommended ranges you can use *check_value*:"
   ]
  },
  {
   "cell_type": "code",
   "execution_count": null,
   "metadata": {
    "jupyter": {
     "outputs_hidden": false,
     "source_hidden": false
    },
    "nteract": {
     "transient": {
      "deleting": false
     }
    }
   },
   "outputs": [],
   "source": [
    "rotating_pitch_peaky.check_values()"
   ]
  },
  {
   "cell_type": "markdown",
   "metadata": {
    "nteract": {
     "transient": {
      "deleting": false
     }
    }
   },
   "source": [
    "The following examples will illustrate the other attributes and their corresponding\n",
    "maximum and minimum recommended values.\n",
    "The following examples shows the **inclination**.\n",
    "\n",
    "Please note: For roation_yaw are taking half of the max and min value since the yaw rotation has the range (-PI,+PI), which is a full rotation, resulting in the same image as the original."
   ]
  },
  {
   "cell_type": "code",
   "execution_count": null,
   "metadata": {
    "jupyter": {
     "outputs_hidden": false,
     "source_hidden": false
    },
    "nteract": {
     "transient": {
      "deleting": false
     }
    }
   },
   "outputs": [],
   "source": [
    "rotating_yaw_peaky = two4two.SceneParameters()\n",
    "rotating_yaw_peaky.obj_rotation_yaw = 0.5*two4two.SceneParameters.VALID_VALUES['obj_rotation_yaw'][0]\n",
    "render_single_param(rotating_yaw_peaky);"
   ]
  },
  {
   "cell_type": "code",
   "execution_count": null,
   "metadata": {
    "jupyter": {
     "outputs_hidden": false,
     "source_hidden": false
    },
    "nteract": {
     "transient": {
      "deleting": false
     }
    }
   },
   "outputs": [],
   "source": [
    "rotating_yaw_peaky.obj_rotation_yaw = 0.5*two4two.SceneParameters.VALID_VALUES['obj_rotation_yaw'][1]\n",
    "render_single_param(rotating_yaw_peaky);"
   ]
  },
  {
   "cell_type": "code",
   "execution_count": null,
   "metadata": {
    "jupyter": {
     "outputs_hidden": false,
     "source_hidden": false
    },
    "nteract": {
     "transient": {
      "deleting": false
     }
    }
   },
   "outputs": [],
   "source": [
    "rotating_roll_peaky = two4two.SceneParameters()\n",
    "rotating_roll_peaky.obj_rotation_roll = two4two.SceneParameters.VALID_VALUES['obj_rotation_roll'][0]\n",
    "render_single_param(rotating_roll_peaky);"
   ]
  },
  {
   "cell_type": "code",
   "execution_count": null,
   "metadata": {
    "jupyter": {
     "outputs_hidden": false,
     "source_hidden": false
    },
    "nteract": {
     "transient": {
      "deleting": false
     }
    }
   },
   "outputs": [],
   "source": [
    "rotating_roll_peaky.obj_rotation_roll = two4two.SceneParameters.VALID_VALUES['obj_rotation_roll'][1]\n",
    "render_single_param(rotating_roll_peaky);"
   ]
  },
  {
   "cell_type": "markdown",
   "metadata": {
    "nteract": {
     "transient": {
      "deleting": false
     }
    }
   },
   "source": [
    "We can also alter the **position** in the scene:"
   ]
  },
  {
   "cell_type": "code",
   "execution_count": null,
   "metadata": {
    "jupyter": {
     "outputs_hidden": false,
     "source_hidden": false
    },
    "nteract": {
     "transient": {
      "deleting": false
     }
    }
   },
   "outputs": [],
   "source": [
    "right_down_peaky = two4two.SceneParameters()\n",
    "right_down_peaky.position_x = two4two.SceneParameters.VALID_VALUES['position_x'][0]\n",
    "right_down_peaky.position_y = two4two.SceneParameters.VALID_VALUES['position_y'][0]\n",
    "render_single_param(right_down_peaky);"
   ]
  },
  {
   "cell_type": "markdown",
   "metadata": {
    "nteract": {
     "transient": {
      "deleting": false
     }
    }
   },
   "source": [
    "The 8 building blocks of peaky and stretchy can be altered to be more or less **spherical**:"
   ]
  },
  {
   "cell_type": "code",
   "execution_count": null,
   "metadata": {
    "jupyter": {
     "outputs_hidden": false,
     "source_hidden": false
    },
    "nteract": {
     "transient": {
      "deleting": false
     }
    }
   },
   "outputs": [],
   "source": [
    "spherical_peaky = two4two.SceneParameters()\n",
    "spherical_peaky.spherical = two4two.SceneParameters.VALID_VALUES['spherical'][1]\n",
    "render_single_param(spherical_peaky);"
   ]
  },
  {
   "cell_type": "code",
   "execution_count": null,
   "metadata": {
    "jupyter": {
     "outputs_hidden": false,
     "source_hidden": false
    },
    "nteract": {
     "transient": {
      "deleting": false
     }
    }
   },
   "outputs": [],
   "source": [
    "cubic_stretchy = two4two.SceneParameters.default_stretchy()\n",
    "cubic_stretchy.spherical = two4two.SceneParameters.VALID_VALUES['spherical'][0]\n",
    "render_single_param(cubic_stretchy);"
   ]
  },
  {
   "cell_type": "markdown",
   "metadata": {
    "nteract": {
     "transient": {
      "deleting": false
     }
    }
   },
   "source": [
    "The objects can take on \"postures\" with the attribute **bending**:"
   ]
  },
  {
   "cell_type": "code",
   "execution_count": null,
   "metadata": {
    "jupyter": {
     "outputs_hidden": false,
     "source_hidden": false
    },
    "nteract": {
     "transient": {
      "deleting": false
     }
    }
   },
   "outputs": [],
   "source": [
    "bending_peaky = two4two.SceneParameters()\n",
    "bending_peaky.bending = two4two.SceneParameters.VALID_VALUES['bending'][0]\n",
    "bending_peaky.check_values()\n",
    "render_single_param(bending_peaky);\n"
   ]
  },
  {
   "cell_type": "markdown",
   "metadata": {},
   "source": [
    "You can also manually set the RBGA values of the **object color** and the **background color**. However, we recommend using Samplers (which are introduced in the next section) to set the color. The example below illustrates how one can set RBA values:"
   ]
  },
  {
   "cell_type": "code",
   "execution_count": null,
   "metadata": {},
   "outputs": [],
   "source": [
    "clr_peaky = two4two.SceneParameters()\n",
    "clr_peaky.obj_color_rgba=(1.0, 0.1764705882352946, 0.1764705882352946, 1.0)\n",
    "clr_peaky.bg_color_rgba=(0.9921568627450981, 0.5529411764705883, 0.23529411764705882, 1.0)\n",
    "render_single_param(clr_peaky);"
   ]
  },
  {
   "cell_type": "markdown",
   "metadata": {
    "nteract": {
     "transient": {
      "deleting": false
     }
    }
   },
   "source": [
    "# Sampling large numbers of SceneParameters\n",
    "In practice, we usually do not create SceneParameters manually. Instead, we use a sampler to sample these attributes from given distributions. The command below creates the default sample provided with this module:"
   ]
  },
  {
   "cell_type": "code",
   "execution_count": null,
   "metadata": {
    "jupyter": {
     "outputs_hidden": false,
     "source_hidden": false
    },
    "nteract": {
     "transient": {
      "deleting": false
     }
    }
   },
   "outputs": [],
   "source": [
    "sampler = two4two.Sampler()"
   ]
  },
  {
   "cell_type": "markdown",
   "metadata": {
    "nteract": {
     "transient": {
      "deleting": false
     }
    }
   },
   "source": [
    "Here we use the default provided sample to generate an example.\n",
    "Try rerunning the cell and see how it changes:"
   ]
  },
  {
   "cell_type": "code",
   "execution_count": null,
   "metadata": {
    "jupyter": {
     "outputs_hidden": false,
     "source_hidden": false
    },
    "nteract": {
     "transient": {
      "deleting": false
     }
    }
   },
   "outputs": [],
   "source": [
    "sampled_params = sampler.sample()\n",
    "render_single_param(sampled_params);"
   ]
  },
  {
   "cell_type": "markdown",
   "metadata": {},
   "source": [
    "We can create several examples using list comprehension, randomly creating several strechies and peakies. Also, there is a useful helper function that renders these examples in an image grid."
   ]
  },
  {
   "cell_type": "code",
   "execution_count": null,
   "metadata": {},
   "outputs": [],
   "source": [
    "from two4two.plotvis import render_grid"
   ]
  },
  {
   "cell_type": "code",
   "execution_count": null,
   "metadata": {
    "jupyter": {
     "outputs_hidden": false,
     "source_hidden": false
    },
    "nteract": {
     "transient": {
      "deleting": false
     }
    }
   },
   "outputs": [],
   "source": [
    "params = [sampler.sample() for i in range(18)]\n",
    "render_grid(params);"
   ]
  },
  {
   "cell_type": "markdown",
   "metadata": {},
   "source": [
    "A sampler works by setting attributes using a distribution. Since it does not really produce aesthetically pleasing images when you are sampling rgba values from a distribution, we are sampling canonical values for the color that we then map to a matplotlib color map. This is the reason why SampleParameters stores two types of attributes for colors. In addition, the samplers keep track of the colormap that is used for setting the rgba values."
   ]
  },
  {
   "cell_type": "code",
   "execution_count": null,
   "metadata": {},
   "outputs": [],
   "source": [
    "clr_sampler = two4two.Sampler()\n",
    "clr_sampler.bg_color_map = 'tab20c'\n",
    "clr_sampler.obj_color_map = 'seismic'\n",
    "sampled_params = clr_sampler.sample()\n",
    "print(f\"Background color: The sampled scalar color value of {sampled_params.bg_color} is in rgba value of {sampled_params.bg_color_rgba} on the {clr_sampler.bg_color_map} color map\" )\n",
    "print(f\"Object color: The sampled scalar color value of {sampled_params.obj_color} is in rgba value of {sampled_params.obj_color_rgba} on the {clr_sampler.obj_color_map} color map\" )\n",
    "render_single_param(sampled_params);"
   ]
  },
  {
   "cell_type": "markdown",
   "metadata": {
    "nteract": {
     "transient": {
      "deleting": false
     }
    }
   },
   "source": [
    "We can also use a sampler to sample individual attributes of SceneParameters.\n",
    "This is useful to visualize how each attribute is sampled and understanding how one might change the distribution of the sampler to produce different data.\n",
    "In the example that follows, we define 18 default strechies and 18 default peakies to then only sampler their **color**. We then sort them by their color and visualize them in a grid. The first columns are filled with Peakies, and the last 3 columns with strechies."
   ]
  },
  {
   "cell_type": "code",
   "execution_count": null,
   "metadata": {
    "jupyter": {
     "outputs_hidden": false,
     "source_hidden": false
    },
    "nteract": {
     "transient": {
      "deleting": false
     }
    }
   },
   "outputs": [],
   "source": [
    "num_images = 18\n",
    "peakies = [two4two.SceneParameters.default_peaky() for i in range(int(num_images/2))]\n",
    "strechies = [two4two.SceneParameters.default_stretchy() for i in range(int(num_images/2))]\n",
    "\n",
    "_ = [sampler.sample_obj_color(params) for params in peakies + strechies]\n",
    "strechies.sort(key=lambda x: x.obj_color)\n",
    "peakies.sort(key=lambda x: x.obj_color)\n",
    "render_grid(peakies + strechies);"
   ]
  },
  {
   "cell_type": "markdown",
   "metadata": {
    "nteract": {
     "transient": {
      "deleting": false
     }
    }
   },
   "source": [
    "In the following example, we repeat this experiment with a different sampler with a **color bias**.\n",
    "You can see that peakies (left) are more frequently red, and stretchies (rigth) are more frequently blue in the grid."
   ]
  },
  {
   "cell_type": "code",
   "execution_count": null,
   "metadata": {
    "jupyter": {
     "outputs_hidden": false,
     "source_hidden": false
    },
    "nteract": {
     "transient": {
      "deleting": false
     }
    }
   },
   "outputs": [],
   "source": [
    "sampler = two4two.ColorBiasedSampler()\n",
    "_ = [sampler.sample_obj_color(params) for params in peakies + strechies]\n",
    "strechies.sort(key=lambda x: x.obj_color)\n",
    "peakies.sort(key=lambda x: x.obj_color)\n",
    "render_grid(peakies + strechies);"
   ]
  },
  {
   "cell_type": "markdown",
   "metadata": {
    "nteract": {
     "transient": {
      "deleting": false
     }
    }
   },
   "source": [
    "It is much easier to see the color bias when we leave all other attributes constant and order the objects by their color.\n",
    "Let's see the images our ColorBiasedSampler would create when it is also sampling all other attributes."
   ]
  },
  {
   "cell_type": "code",
   "execution_count": null,
   "metadata": {
    "jupyter": {
     "outputs_hidden": false,
     "source_hidden": false
    },
    "nteract": {
     "transient": {
      "deleting": false
     }
    }
   },
   "outputs": [],
   "source": [
    "render_grid([sampler.sample() for i in range(num_images)], equal_class_distribution=False);"
   ]
  },
  {
   "cell_type": "markdown",
   "metadata": {},
   "source": [
    "# More complex biases\n",
    "We have created an even trickier color bias which only applies to challenging cases. Please see the class documentation of *bias.py* for details on creating more complex biases. The following examples illustrate that it is hard to see this color bias with the plain eye by solely inspecting the training data."
   ]
  },
  {
   "cell_type": "code",
   "execution_count": null,
   "metadata": {},
   "outputs": [],
   "source": [
    "sampler = two4two.bias.MedVarColorSampler()\n",
    "render_grid([sampler.sample() for i in range(num_images*2)], equal_class_distribution=False);"
   ]
  },
  {
   "cell_type": "markdown",
   "metadata": {
    "nteract": {
     "transient": {
      "deleting": false
     }
    }
   },
   "source": [
    "# Building custom samplers with custom biases\n",
    "There are two ways one can create **custom samplers**.\n",
    "For more sophisticated biases, one can implement custom sampling functions - for more details please refer to *bias.py*, which is extensively documented. This notebook does not provide examples for implementing custom functions.\n",
    "For simple changes, you can set some custom distributions in a given sampler. This what we will illustrate in this notebook.\n",
    "The following code cell takes the color biased sampler and changes it to also randomly flip objects vertically 50% of the time.\n",
    "Please note: We are also sampling the arm position because a vertical flip is not visible for stretchy otherwise."
   ]
  },
  {
   "cell_type": "code",
   "execution_count": null,
   "metadata": {
    "jupyter": {
     "outputs_hidden": false,
     "source_hidden": false
    },
    "nteract": {
     "transient": {
      "deleting": false
     }
    },
    "scrolled": true
   },
   "outputs": [],
   "source": [
    "sampler = two4two.Sampler()\n",
    "sampler.fliplr=two4two.utils.discrete({True: 0.5, False: 0.5})\n",
    "peakies = [two4two.SceneParameters.default_peaky() for i in range(int(num_images/2))]\n",
    "strechies = [two4two.SceneParameters.default_stretchy() for i in range(int(num_images/2))]\n",
    "_ = [sampler.sample_fliplr(params) for params in peakies + strechies]\n",
    "_ = [sampler.sample_arm_position(params) for params in peakies + strechies]\n",
    "render_grid(peakies + strechies);"
   ]
  },
  {
   "cell_type": "markdown",
   "metadata": {
    "nteract": {
     "transient": {
      "deleting": false
     }
    }
   },
   "source": [
    "Now let's create our own bias. In the following example, we take the default sampler and visualize how it is sampling\n",
    "the background color."
   ]
  },
  {
   "cell_type": "code",
   "execution_count": null,
   "metadata": {
    "jupyter": {
     "outputs_hidden": false,
     "source_hidden": false
    },
    "nteract": {
     "transient": {
      "deleting": false
     }
    }
   },
   "outputs": [],
   "source": [
    "peakies = [two4two.SceneParameters.default_peaky() for i in range(int(num_images/2))]\n",
    "strechies = [two4two.SceneParameters.default_stretchy() for i in range(int(num_images/2))]\n",
    "sampler = two4two.Sampler()\n",
    "_ = [sampler.sample_bg_color(params) for params in peakies + strechies]\n",
    "strechies.sort(key=lambda x: x.bg_color)\n",
    "peakies.sort(key=lambda x: x.bg_color)\n",
    "render_grid(peakies + strechies);"
   ]
  },
  {
   "cell_type": "markdown",
   "metadata": {
    "nteract": {
     "transient": {
      "deleting": false
     }
    }
   },
   "source": [
    "As you can see the backgrounds are quiete similar for both classes (In order to keep this file samll we did not include to many images, please try generating more images when you run this on your own machine).\n",
    "We will now replace the background distribution with a conditional distribution which is slightly different for peaky and stretchy. For illustration purposes, we only visualize the sampling of the background in these images while leaving all other attributes with their respective default values."
   ]
  },
  {
   "cell_type": "code",
   "execution_count": null,
   "metadata": {
    "jupyter": {
     "outputs_hidden": false,
     "source_hidden": false
    },
    "nteract": {
     "transient": {
      "deleting": false
     }
    }
   },
   "outputs": [],
   "source": [
    "peakies = [two4two.SceneParameters.default_peaky() for i in range(int(num_images/2))]\n",
    "strechies = [two4two.SceneParameters.default_stretchy() for i in range(int(num_images/2))]\n",
    "sampler = two4two.Sampler()\n",
    "sampler.bg_color = {\n",
    "    'peaky': two4two.utils.truncated_normal(0.8, 0.3, 0.3, 0.85),\n",
    "    'stretchy': two4two.utils.truncated_normal(0.2, 0.3, 0.15, 0.7)}\n",
    "_ = [sampler.sample_bg_color(params) for params in peakies + strechies]\n",
    "strechies.sort(key=lambda x: x.bg_color)\n",
    "peakies.sort(key=lambda x: x.bg_color)\n",
    "render_grid(peakies + strechies);"
   ]
  },
  {
   "cell_type": "markdown",
   "metadata": {},
   "source": [
    "As you saw in the above example, a background bias is noticeable if one orders the images by their background. It becomes less noticeable when the images are not shown in an ordered fashion, as illustrated below."
   ]
  },
  {
   "cell_type": "code",
   "execution_count": null,
   "metadata": {
    "jupyter": {
     "outputs_hidden": false,
     "source_hidden": false
    },
    "nteract": {
     "transient": {
      "deleting": false
     }
    }
   },
   "outputs": [],
   "source": [
    "peakies = [sampler.sample(obj_name='peaky') for i in range(int(num_images/2))]\n",
    "strechies = [sampler.sample(obj_name='stretchy') for i in range(int(num_images/2))]\n",
    "render_grid(peakies + strechies);"
   ]
  },
  {
   "cell_type": "markdown",
   "metadata": {},
   "source": [
    "# Increasing classification difficulty\n",
    "Another option to modify the generated data is to make it more challenging. Here we are modifying how the rotation is sampled:"
   ]
  },
  {
   "cell_type": "code",
   "execution_count": null,
   "metadata": {},
   "outputs": [],
   "source": [
    "peakies = [two4two.SceneParameters.default_peaky() for i in range(int(num_images/2))]\n",
    "strechies = [two4two.SceneParameters.default_stretchy() for i in range(int(num_images/2))]\n",
    "sampler = two4two.Sampler()\n",
    "sampler.obj_rotation_roll=scipy.stats.uniform(- np.pi / 3, 2 * np.pi / 3)\n",
    "sampler.obj_rotation_pitch=scipy.stats.uniform(- np.pi / 3, 2 * np.pi / 3)\n",
    "_ = [sampler.sample_rotation(params) for params in peakies + strechies] \n",
    "render_grid(peakies + strechies);"
   ]
  },
  {
   "cell_type": "code",
   "execution_count": null,
   "metadata": {},
   "outputs": [],
   "source": [
    "peakies = [two4two.SceneParameters.default_peaky() for i in range(int(num_images/2))]\n",
    "strechies = [two4two.SceneParameters.default_stretchy() for i in range(int(num_images/2))]\n",
    "sampler.bending = scipy.stats.uniform(-np.pi / 8, np.pi / 4)\n",
    "_ = [sampler.sample_bending(params) for params in peakies + strechies] \n",
    "render_grid(peakies + strechies);"
   ]
  },
  {
   "cell_type": "markdown",
   "metadata": {},
   "source": [
    "To visualize the resulting dataset we can once again simply sample all parameters:"
   ]
  },
  {
   "cell_type": "code",
   "execution_count": null,
   "metadata": {},
   "outputs": [],
   "source": [
    "render_grid([sampler.sample() for i in range(num_images)], equal_class_distribution=False);"
   ]
  },
  {
   "cell_type": "markdown",
   "metadata": {},
   "source": [
    "# Writing large number of images to disk\n",
    "Once you are happy with the sampler you created, you can use it to generate more data. \n",
    "\n",
    "You once again have two options for doing this. If you created your custom class in *bias.py*, you can use the command-line tool functionality *two4two_render_dataset* together with a toml file that specifies how many images should be generated. Please refer to *config/color_spher_bias.toml* as an example.\n",
    "\n",
    "The second option illustrated in this notebook is to call the render function directly (e.g. from within this notebook). The following cell renderes 100 images with the custom sampler we just created."
   ]
  },
  {
   "cell_type": "code",
   "execution_count": null,
   "metadata": {},
   "outputs": [],
   "source": [
    "output_dir = \"two4two_datasets/higher_variation_bg_bias\"\n",
    "os.makedirs(output_dir, exist_ok=True)\n",
    "validation_params = [sampler.sample() for i in range(100)]\n",
    "for _ in two4two.render(validation_params, output_dir=output_dir):\n",
    "    pass"
   ]
  },
  {
   "cell_type": "markdown",
   "metadata": {},
   "source": [
    "Please note: While this notebook is excellent for prototyping your own sampler, we recommend that you add your sample to *bias.py* once you are happy with it. If you found a great sampler, we are happy to receive your pull request on Github and add your sampler to the official repository."
   ]
  }
 ],
 "metadata": {
  "kernelspec": {
   "display_name": "Python 3",
   "language": "python",
   "name": "python3"
  },
  "language_info": {
   "codemirror_mode": {
    "name": "ipython",
    "version": 3
   },
   "file_extension": ".py",
   "mimetype": "text/x-python",
   "name": "python",
   "nbconvert_exporter": "python",
   "pygments_lexer": "ipython3",
   "version": "3.7.9"
  }
 },
 "nbformat": 4,
 "nbformat_minor": 1
}
